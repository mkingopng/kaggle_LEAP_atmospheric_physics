{
 "cells": [
  {
   "metadata": {},
   "cell_type": "code",
   "source": "import pandas as pd",
   "id": "3119e56773cf8abe",
   "outputs": [],
   "execution_count": null
  },
  {
   "metadata": {},
   "cell_type": "code",
   "source": [
    "# Specify the path to your CSV file\n",
    "csv_file_path = './../data/train.csv'"
   ],
   "id": "4382a8bf67369b82",
   "outputs": [],
   "execution_count": null
  },
  {
   "metadata": {},
   "cell_type": "markdown",
   "source": "# how much memory per row?",
   "id": "30c8ba99363d520f"
  },
  {
   "metadata": {},
   "cell_type": "code",
   "source": [
    "sample_data = pd.read_csv(csv_file_path, nrows=1000)\n",
    "\n",
    "# Check memory usage\n",
    "memory_per_row = sample_data.memory_usage(deep=True).sum() / 1000\n",
    "print(f\"Estimated memory per row: {memory_per_row} bytes\")"
   ],
   "id": "b6d08131cdd5d6d8",
   "outputs": [],
   "execution_count": null
  },
  {
   "metadata": {},
   "cell_type": "code",
   "source": "sample_data.head()",
   "id": "8021b605a2da90a4",
   "outputs": [],
   "execution_count": null
  },
  {
   "metadata": {},
   "cell_type": "markdown",
   "source": "# how many rows are there?",
   "id": "c55e56d5b59be3e9"
  },
  {
   "metadata": {},
   "cell_type": "code",
   "source": [
    "# initialize row count\n",
    "total_rows = 0\n",
    "\n",
    "# process in chunks\n",
    "chunksize = 1000000  # adjust chunksize according to your memory capacity\n",
    "for chunk in pd.read_csv(csv_file_path, chunksize=chunksize):\n",
    "    total_rows += len(chunk)\n",
    "\n",
    "# print the total number of rows\n",
    "print(f\"Total number of rows: {total_rows}\")"
   ],
   "id": "aa11aea1ddf62d8a",
   "outputs": [],
   "execution_count": null
  },
  {
   "cell_type": "code",
   "id": "initial_id",
   "metadata": {
    "collapsed": true,
    "jupyter": {
     "is_executing": true
    }
   },
   "source": [
    "%%time\n",
    "df = pd.read_csv('./../data/train.csv')\n",
    "df.head()"
   ],
   "outputs": [],
   "execution_count": null
  },
  {
   "metadata": {
    "jupyter": {
     "is_executing": true
    }
   },
   "cell_type": "code",
   "source": "# chunksize = 50000",
   "id": "2b4b1ade45df33bf",
   "outputs": [],
   "execution_count": null
  },
  {
   "metadata": {
    "jupyter": {
     "is_executing": true
    }
   },
   "cell_type": "code",
   "source": [
    "# columns_to_drop = ['pbuf_N2O_46', 'pbuf_N2O_28', 'pbuf_CH4_45', 'pbuf_CH4_48', \n",
    "#                    'pbuf_CH4_54', 'pbuf_CH4_43', 'pbuf_N2O_43', 'pbuf_CH4_38', \n",
    "#                    'pbuf_CH4_47', 'pbuf_N2O_42', 'pbuf_CH4_29', 'pbuf_CH4_58', \n",
    "#                    'pbuf_CH4_34', 'pbuf_N2O_40', 'pbuf_CH4_41', 'pbuf_CH4_57', \n",
    "#                    'pbuf_N2O_44', 'pbuf_CH4_37', 'pbuf_N2O_50', 'pbuf_CH4_56', \n",
    "#                    'pbuf_N2O_48', 'pbuf_N2O_27', 'pbuf_N2O_58', 'pbuf_N2O_38', \n",
    "#                    'pbuf_N2O_36', 'pbuf_N2O_37', 'pbuf_CH4_39', 'pbuf_CH4_35', \n",
    "#                    'pbuf_N2O_55', 'pbuf_CH4_33', 'pbuf_CH4_52', 'pbuf_N2O_31', \n",
    "#                    'pbuf_N2O_56', 'pbuf_CH4_27', 'pbuf_CH4_30', 'pbuf_CH4_31', \n",
    "#                    'pbuf_N2O_51', 'pbuf_N2O_52', 'pbuf_N2O_41', 'pbuf_N2O_53', \n",
    "#                    'pbuf_CH4_44', 'pbuf_CH4_50', 'pbuf_CH4_32', 'pbuf_CH4_53', \n",
    "#                    'pbuf_N2O_29', 'pbuf_CH4_36', 'pbuf_CH4_42', 'pbuf_CH4_55', \n",
    "#                    'pbuf_N2O_59', 'pbuf_N2O_32', 'pbuf_CH4_51', 'pbuf_N2O_47', \n",
    "#                    'pbuf_N2O_49', 'pbuf_N2O_30', 'pbuf_N2O_35', 'pbuf_N2O_33', \n",
    "#                    'pbuf_CH4_40', 'pbuf_CH4_49', 'pbuf_CH4_28', 'pbuf_N2O_34', \n",
    "#                    'pbuf_CH4_59', 'pbuf_N2O_57', 'pbuf_N2O_39', 'pbuf_N2O_45', \n",
    "#                    'pbuf_N2O_54', 'pbuf_CH4_46']"
   ],
   "id": "20e9b559c7bf08b",
   "outputs": [],
   "execution_count": null
  },
  {
   "metadata": {
    "jupyter": {
     "is_executing": true
    }
   },
   "cell_type": "code",
   "source": [
    "# reading the dataset in chunks\n",
    "# for chunk in pd.read_csv(csv_file_path, chunksize=chunksize):\n",
    "#     drop columns with only one unique value\n",
    "    # chunk.drop(columns=columns_to_drop, inplace=True)\n",
    "    # \n",
    "    # Convert data types to reduce memory usage\n",
    "    # float_cols = chunk.select_dtypes(include=['float64']).columns\n",
    "    # chunk[float_cols] = chunk[float_cols].astype('float16')\n",
    "    \n",
    "    # Assuming the target column is 'target' and should be float32\n",
    "    # if 'target' in chunk.columns:\n",
    "    #     chunk['target'] = chunk['target'].astype('float32')\n",
    "    \n",
    "    # Save each chunk as a Parquet file\n",
    "    # chunk.to_parquet(f'./../data/{chunk.index.start}.parquet')"
   ],
   "id": "304f27c4f4a28ce9",
   "outputs": [],
   "execution_count": null
  },
  {
   "metadata": {
    "jupyter": {
     "is_executing": true
    }
   },
   "cell_type": "code",
   "source": "",
   "id": "723218f968d24830",
   "outputs": [],
   "execution_count": null
  }
 ],
 "metadata": {
  "kernelspec": {
   "display_name": "Python 3",
   "language": "python",
   "name": "python3"
  },
  "language_info": {
   "codemirror_mode": {
    "name": "ipython",
    "version": 2
   },
   "file_extension": ".py",
   "mimetype": "text/x-python",
   "name": "python",
   "nbconvert_exporter": "python",
   "pygments_lexer": "ipython2",
   "version": "2.7.6"
  }
 },
 "nbformat": 4,
 "nbformat_minor": 5
}
