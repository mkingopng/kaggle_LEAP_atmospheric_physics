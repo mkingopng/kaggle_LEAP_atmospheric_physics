{
 "cells": [
  {
   "metadata": {},
   "cell_type": "code",
   "source": "import pandas as pd",
   "id": "3119e56773cf8abe",
   "outputs": [],
   "execution_count": null
  },
  {
   "metadata": {},
   "cell_type": "code",
   "source": [
    "# Specify the path to your CSV file\n",
    "csv_file_path = './../data/train.csv'"
   ],
   "id": "4382a8bf67369b82",
   "outputs": [],
   "execution_count": null
  },
  {
   "metadata": {},
   "cell_type": "markdown",
   "source": "# how much memory per row?",
   "id": "30c8ba99363d520f"
  },
  {
   "metadata": {},
   "cell_type": "code",
   "source": [
    "sample_data = pd.read_csv(csv_file_path, nrows=1000)\n",
    "\n",
    "# Check memory usage\n",
    "memory_per_row = sample_data.memory_usage(deep=True).sum() / 1000\n",
    "print(f\"Estimated memory per row: {memory_per_row} bytes\")"
   ],
   "id": "b6d08131cdd5d6d8",
   "outputs": [],
   "execution_count": null
  },
  {
   "metadata": {},
   "cell_type": "code",
   "source": "sample_data.head()",
   "id": "8021b605a2da90a4",
   "outputs": [],
   "execution_count": null
  },
  {
   "metadata": {},
   "cell_type": "markdown",
   "source": "# how many rows are there?",
   "id": "c55e56d5b59be3e9"
  },
  {
   "metadata": {},
   "cell_type": "code",
   "source": [
    "# initialize row count\n",
    "total_rows = 0\n",
    "\n",
    "# process in chunks\n",
    "chunksize = 1000000  # adjust chunksize according to your memory capacity\n",
    "for chunk in pd.read_csv(csv_file_path, chunksize=chunksize):\n",
    "    total_rows += len(chunk)\n",
    "\n",
    "# print the total number of rows\n",
    "print(f\"Total number of rows: {total_rows}\")"
   ],
   "id": "aa11aea1ddf62d8a",
   "outputs": [],
   "execution_count": null
  },
  {
   "cell_type": "code",
   "id": "initial_id",
   "metadata": {
    "collapsed": true,
    "jupyter": {
     "is_executing": true
    }
   },
   "source": [
    "%%time\n",
    "df = pd.read_csv('./../data/train.csv')\n",
    "df.head()"
   ],
   "outputs": [],
   "execution_count": null
  },
  {
   "metadata": {
    "jupyter": {
     "is_executing": true
    }
   },
   "cell_type": "code",
   "source": "# chunksize = 50000",
   "id": "2b4b1ade45df33bf",
   "outputs": [],
   "execution_count": null
  },
  {
   "metadata": {
    "jupyter": {
     "is_executing": true
    }
   },
   "cell_type": "code",
   "source": [
    "# columns_to_drop = ['pbuf_N2O_46', 'pbuf_N2O_28', 'pbuf_CH4_45', 'pbuf_CH4_48', \n",
    "#                    'pbuf_CH4_54', 'pbuf_CH4_43', 'pbuf_N2O_43', 'pbuf_CH4_38', \n",
    "#                    'pbuf_CH4_47', 'pbuf_N2O_42', 'pbuf_CH4_29', 'pbuf_CH4_58', \n",
    "#                    'pbuf_CH4_34', 'pbuf_N2O_40', 'pbuf_CH4_41', 'pbuf_CH4_57', \n",
    "#                    'pbuf_N2O_44', 'pbuf_CH4_37', 'pbuf_N2O_50', 'pbuf_CH4_56', \n",
    "#                    'pbuf_N2O_48', 'pbuf_N2O_27', 'pbuf_N2O_58', 'pbuf_N2O_38', \n",
    "#                    'pbuf_N2O_36', 'pbuf_N2O_37', 'pbuf_CH4_39', 'pbuf_CH4_35', \n",
    "#                    'pbuf_N2O_55', 'pbuf_CH4_33', 'pbuf_CH4_52', 'pbuf_N2O_31', \n",
    "#                    'pbuf_N2O_56', 'pbuf_CH4_27', 'pbuf_CH4_30', 'pbuf_CH4_31', \n",
    "#                    'pbuf_N2O_51', 'pbuf_N2O_52', 'pbuf_N2O_41', 'pbuf_N2O_53', \n",
    "#                    'pbuf_CH4_44', 'pbuf_CH4_50', 'pbuf_CH4_32', 'pbuf_CH4_53', \n",
    "#                    'pbuf_N2O_29', 'pbuf_CH4_36', 'pbuf_CH4_42', 'pbuf_CH4_55', \n",
    "#                    'pbuf_N2O_59', 'pbuf_N2O_32', 'pbuf_CH4_51', 'pbuf_N2O_47', \n",
    "#                    'pbuf_N2O_49', 'pbuf_N2O_30', 'pbuf_N2O_35', 'pbuf_N2O_33', \n",
    "#                    'pbuf_CH4_40', 'pbuf_CH4_49', 'pbuf_CH4_28', 'pbuf_N2O_34', \n",
    "#                    'pbuf_CH4_59', 'pbuf_N2O_57', 'pbuf_N2O_39', 'pbuf_N2O_45', \n",
    "#                    'pbuf_N2O_54', 'pbuf_CH4_46']"
   ],
   "id": "20e9b559c7bf08b",
   "outputs": [],
   "execution_count": null
  },
  {
   "metadata": {
    "jupyter": {
     "is_executing": true
    }
   },
   "cell_type": "code",
   "source": [
    "# reading the dataset in chunks\n",
    "# for chunk in pd.read_csv(csv_file_path, chunksize=chunksize):\n",
    "#     drop columns with only one unique value\n",
    "    # chunk.drop(columns=columns_to_drop, inplace=True)\n",
    "    # \n",
    "    # Convert data types to reduce memory usage\n",
    "    # float_cols = chunk.select_dtypes(include=['float64']).columns\n",
    "    # chunk[float_cols] = chunk[float_cols].astype('float16')\n",
    "    \n",
    "    # Assuming the target column is 'target' and should be float32\n",
    "    # if 'target' in chunk.columns:\n",
    "    #     chunk['target'] = chunk['target'].astype('float32')\n",
    "    \n",
    "    # Save each chunk as a Parquet file\n",
    "    # chunk.to_parquet(f'./../data/{chunk.index.start}.parquet')"
   ],
   "id": "304f27c4f4a28ce9",
   "outputs": [],
   "execution_count": null
  },
  {
   "metadata": {
    "ExecuteTime": {
     "end_time": "2024-05-02T22:18:26.070355Z",
     "start_time": "2024-05-02T22:17:50.054620Z"
    }
   },
   "cell_type": "code",
   "source": "",
   "id": "723218f968d24830",
   "outputs": [],
   "execution_count": 2
  },
  {
   "metadata": {
    "ExecuteTime": {
     "end_time": "2024-05-02T22:18:32.132814Z",
     "start_time": "2024-05-02T22:18:32.078591Z"
    }
   },
   "cell_type": "code",
   "source": "",
   "id": "25db75ea9d34647",
   "outputs": [
    {
     "data": {
      "text/plain": [
       "shape: (5, 859)\n",
       "┌───────────┬───────────┬───────────┬───────────┬───┬───────────┬───────────┬───────────┬──────────┐\n",
       "│ sample_id ┆ state_t_0 ┆ state_t_1 ┆ state_t_2 ┆ … ┆ cam_out_S ┆ cam_out_S ┆ cam_out_S ┆ cam_out_ │\n",
       "│ ---       ┆ ---       ┆ ---       ┆ ---       ┆   ┆ OLS       ┆ OLL       ┆ OLSD      ┆ SOLLD    │\n",
       "│ i32       ┆ f32       ┆ f32       ┆ f32       ┆   ┆ ---       ┆ ---       ┆ ---       ┆ ---      │\n",
       "│           ┆           ┆           ┆           ┆   ┆ f32       ┆ f32       ┆ f32       ┆ f32      │\n",
       "╞═══════════╪═══════════╪═══════════╪═══════════╪═══╪═══════════╪═══════════╪═══════════╪══════════╡\n",
       "│ 0         ┆ 213.75    ┆ 222.25    ┆ 229.25    ┆ … ┆ 0.0       ┆ 0.0       ┆ 0.0       ┆ 0.0      │\n",
       "│ 1         ┆ 213.125   ┆ 225.875   ┆ 229.625   ┆ … ┆ 0.0       ┆ 0.0       ┆ 0.0       ┆ 0.0      │\n",
       "│ 2         ┆ 217.125   ┆ 220.5     ┆ 234.625   ┆ … ┆ 0.0       ┆ 0.0       ┆ 0.0       ┆ 0.0      │\n",
       "│ 3         ┆ 217.75    ┆ 225.625   ┆ 234.125   ┆ … ┆ 0.0       ┆ 0.0       ┆ 0.0       ┆ 0.0      │\n",
       "│ 4         ┆ 216.375   ┆ 230.5     ┆ 233.625   ┆ … ┆ 0.0       ┆ 0.0       ┆ 0.0       ┆ 0.0      │\n",
       "└───────────┴───────────┴───────────┴───────────┴───┴───────────┴───────────┴───────────┴──────────┘"
      ],
      "text/html": [
       "<div><style>\n",
       ".dataframe > thead > tr,\n",
       ".dataframe > tbody > tr {\n",
       "  text-align: right;\n",
       "  white-space: pre-wrap;\n",
       "}\n",
       "</style>\n",
       "<small>shape: (5, 859)</small><table border=\"1\" class=\"dataframe\"><thead><tr><th>sample_id</th><th>state_t_0</th><th>state_t_1</th><th>state_t_2</th><th>state_t_3</th><th>state_t_4</th><th>state_t_5</th><th>state_t_6</th><th>state_t_7</th><th>state_t_8</th><th>state_t_9</th><th>state_t_10</th><th>state_t_11</th><th>state_t_12</th><th>state_t_13</th><th>state_t_14</th><th>state_t_15</th><th>state_t_16</th><th>state_t_17</th><th>state_t_18</th><th>state_t_19</th><th>state_t_20</th><th>state_t_21</th><th>state_t_22</th><th>state_t_23</th><th>state_t_24</th><th>state_t_25</th><th>state_t_26</th><th>state_t_27</th><th>state_t_28</th><th>state_t_29</th><th>state_t_30</th><th>state_t_31</th><th>state_t_32</th><th>state_t_33</th><th>state_t_34</th><th>state_t_35</th><th>&hellip;</th><th>ptend_v_31</th><th>ptend_v_32</th><th>ptend_v_33</th><th>ptend_v_34</th><th>ptend_v_35</th><th>ptend_v_36</th><th>ptend_v_37</th><th>ptend_v_38</th><th>ptend_v_39</th><th>ptend_v_40</th><th>ptend_v_41</th><th>ptend_v_42</th><th>ptend_v_43</th><th>ptend_v_44</th><th>ptend_v_45</th><th>ptend_v_46</th><th>ptend_v_47</th><th>ptend_v_48</th><th>ptend_v_49</th><th>ptend_v_50</th><th>ptend_v_51</th><th>ptend_v_52</th><th>ptend_v_53</th><th>ptend_v_54</th><th>ptend_v_55</th><th>ptend_v_56</th><th>ptend_v_57</th><th>ptend_v_58</th><th>ptend_v_59</th><th>cam_out_NETSW</th><th>cam_out_FLWDS</th><th>cam_out_PRECSC</th><th>cam_out_PRECC</th><th>cam_out_SOLS</th><th>cam_out_SOLL</th><th>cam_out_SOLSD</th><th>cam_out_SOLLD</th></tr><tr><td>i32</td><td>f32</td><td>f32</td><td>f32</td><td>f32</td><td>f32</td><td>f32</td><td>f32</td><td>f32</td><td>f32</td><td>f32</td><td>f32</td><td>f32</td><td>f32</td><td>f32</td><td>f32</td><td>f32</td><td>f32</td><td>f32</td><td>f32</td><td>f32</td><td>f32</td><td>f32</td><td>f32</td><td>f32</td><td>f32</td><td>f32</td><td>f32</td><td>f32</td><td>f32</td><td>f32</td><td>f32</td><td>f32</td><td>f32</td><td>f32</td><td>f32</td><td>f32</td><td>&hellip;</td><td>f32</td><td>f32</td><td>f32</td><td>f32</td><td>f32</td><td>f32</td><td>f32</td><td>f32</td><td>f32</td><td>f32</td><td>f32</td><td>f32</td><td>f32</td><td>f32</td><td>f32</td><td>f32</td><td>f32</td><td>f32</td><td>f32</td><td>f32</td><td>f32</td><td>f32</td><td>f32</td><td>f32</td><td>f32</td><td>f32</td><td>f32</td><td>f32</td><td>f32</td><td>f32</td><td>f32</td><td>f32</td><td>f32</td><td>f32</td><td>f32</td><td>f32</td><td>f32</td></tr></thead><tbody><tr><td>0</td><td>213.75</td><td>222.25</td><td>229.25</td><td>245.75</td><td>258.25</td><td>265.75</td><td>264.0</td><td>254.875</td><td>244.0</td><td>236.75</td><td>230.875</td><td>226.5</td><td>222.0</td><td>216.875</td><td>210.75</td><td>205.125</td><td>201.625</td><td>199.375</td><td>196.625</td><td>198.125</td><td>200.25</td><td>204.5</td><td>209.25</td><td>214.25</td><td>219.125</td><td>223.625</td><td>227.875</td><td>231.875</td><td>235.875</td><td>239.75</td><td>243.625</td><td>247.5</td><td>251.125</td><td>254.75</td><td>258.0</td><td>261.25</td><td>&hellip;</td><td>0.077274</td><td>0.050239</td><td>0.003729</td><td>-0.010824</td><td>-0.014926</td><td>-0.021633</td><td>0.00233</td><td>0.021499</td><td>-0.002053</td><td>0.019015</td><td>-0.003287</td><td>-0.022154</td><td>-0.029056</td><td>0.002452</td><td>-0.073034</td><td>-0.156892</td><td>-0.047535</td><td>-0.382321</td><td>-0.357464</td><td>-1.05782</td><td>-0.368499</td><td>0.981896</td><td>0.725763</td><td>0.257836</td><td>0.099358</td><td>0.007303</td><td>-0.041045</td><td>-0.025254</td><td>0.040925</td><td>0.0</td><td>4.8528</td><td>0.0</td><td>0.000036</td><td>0.0</td><td>0.0</td><td>0.0</td><td>0.0</td></tr><tr><td>1</td><td>213.125</td><td>225.875</td><td>229.625</td><td>246.875</td><td>261.0</td><td>269.0</td><td>267.75</td><td>257.0</td><td>244.125</td><td>236.875</td><td>231.625</td><td>227.875</td><td>224.125</td><td>219.875</td><td>214.75</td><td>209.75</td><td>206.625</td><td>205.125</td><td>202.25</td><td>203.125</td><td>203.75</td><td>206.75</td><td>210.0</td><td>213.625</td><td>217.25</td><td>220.75</td><td>224.25</td><td>227.875</td><td>231.5</td><td>235.25</td><td>238.875</td><td>242.625</td><td>246.125</td><td>249.625</td><td>253.125</td><td>256.5</td><td>&hellip;</td><td>0.028818</td><td>-0.248265</td><td>0.067291</td><td>-0.067687</td><td>-0.069926</td><td>0.047825</td><td>0.019616</td><td>-0.042126</td><td>0.051219</td><td>0.026741</td><td>-0.017223</td><td>-0.132325</td><td>-0.002659</td><td>0.120503</td><td>-0.11757</td><td>-0.306287</td><td>-0.354408</td><td>-0.138098</td><td>-0.476167</td><td>-0.764134</td><td>-0.376146</td><td>0.677455</td><td>0.838971</td><td>0.430475</td><td>0.134241</td><td>0.025993</td><td>-0.031359</td><td>0.014665</td><td>0.02915</td><td>0.0</td><td>4.653445</td><td>0.0</td><td>0.03835</td><td>0.0</td><td>0.0</td><td>0.0</td><td>0.0</td></tr><tr><td>2</td><td>217.125</td><td>220.5</td><td>234.625</td><td>244.375</td><td>254.0</td><td>259.75</td><td>257.75</td><td>251.125</td><td>241.875</td><td>234.5</td><td>228.25</td><td>223.625</td><td>219.125</td><td>214.875</td><td>208.625</td><td>201.0</td><td>193.5</td><td>190.25</td><td>188.75</td><td>190.0</td><td>196.5</td><td>203.5</td><td>210.5</td><td>217.25</td><td>223.25</td><td>228.875</td><td>234.375</td><td>239.25</td><td>243.625</td><td>247.75</td><td>251.625</td><td>255.25</td><td>258.5</td><td>261.5</td><td>264.5</td><td>267.0</td><td>&hellip;</td><td>-0.235248</td><td>-0.08398</td><td>-0.191327</td><td>-0.086259</td><td>-0.099767</td><td>0.019407</td><td>-0.023919</td><td>-0.041256</td><td>0.063648</td><td>-0.054575</td><td>-0.038737</td><td>-0.06728</td><td>-0.030177</td><td>0.040633</td><td>0.11985</td><td>0.414091</td><td>0.795404</td><td>0.704266</td><td>0.872761</td><td>0.239491</td><td>-0.227583</td><td>-0.804225</td><td>-1.448928</td><td>-1.190546</td><td>-0.677759</td><td>-0.430936</td><td>-0.129996</td><td>0.06448</td><td>1.806126</td><td>0.0</td><td>5.576699</td><td>0.0</td><td>0.090722</td><td>0.0</td><td>0.0</td><td>0.0</td><td>0.0</td></tr><tr><td>3</td><td>217.75</td><td>225.625</td><td>234.125</td><td>247.75</td><td>257.5</td><td>263.5</td><td>261.25</td><td>253.25</td><td>242.375</td><td>234.375</td><td>228.0</td><td>224.0</td><td>219.625</td><td>215.25</td><td>210.25</td><td>204.125</td><td>196.5</td><td>191.875</td><td>189.875</td><td>190.75</td><td>196.75</td><td>203.625</td><td>210.625</td><td>217.25</td><td>223.125</td><td>228.625</td><td>233.875</td><td>238.5</td><td>242.75</td><td>246.75</td><td>250.375</td><td>253.875</td><td>257.25</td><td>260.5</td><td>263.25</td><td>266.25</td><td>&hellip;</td><td>-0.208491</td><td>-0.300406</td><td>-0.113838</td><td>-0.010512</td><td>-0.002416</td><td>-0.023076</td><td>0.039271</td><td>0.002193</td><td>-0.014658</td><td>0.020225</td><td>-0.022797</td><td>0.022293</td><td>0.099048</td><td>-0.006137</td><td>0.169554</td><td>0.333702</td><td>0.166173</td><td>-0.105038</td><td>-0.176849</td><td>-0.075022</td><td>0.202431</td><td>0.540401</td><td>-0.051315</td><td>-0.306277</td><td>-0.27705</td><td>-0.199926</td><td>-0.199002</td><td>-0.373422</td><td>0.297932</td><td>0.0</td><td>5.556165</td><td>0.0</td><td>0.309659</td><td>0.0</td><td>0.0</td><td>0.0</td><td>0.0</td></tr><tr><td>4</td><td>216.375</td><td>230.5</td><td>233.625</td><td>248.25</td><td>262.5</td><td>270.0</td><td>268.75</td><td>258.25</td><td>244.5</td><td>236.75</td><td>231.5</td><td>228.0</td><td>224.875</td><td>221.375</td><td>217.375</td><td>213.125</td><td>209.625</td><td>207.875</td><td>204.875</td><td>205.5</td><td>205.0</td><td>207.625</td><td>210.5</td><td>213.75</td><td>217.0</td><td>220.375</td><td>223.75</td><td>227.125</td><td>230.5</td><td>233.75</td><td>237.0</td><td>240.125</td><td>243.25</td><td>246.375</td><td>249.625</td><td>253.0</td><td>&hellip;</td><td>-0.068307</td><td>-0.02148</td><td>0.012922</td><td>0.021751</td><td>-0.053205</td><td>-0.206038</td><td>0.143681</td><td>-0.007349</td><td>-0.005018</td><td>0.010547</td><td>-0.024656</td><td>0.022587</td><td>-0.003921</td><td>0.02003</td><td>-0.005201</td><td>0.037001</td><td>0.049513</td><td>0.08375</td><td>0.044469</td><td>-0.106598</td><td>-0.221449</td><td>-0.242982</td><td>0.355647</td><td>0.309179</td><td>-0.036999</td><td>-0.077653</td><td>-0.045229</td><td>0.069254</td><td>-0.186223</td><td>0.0</td><td>4.469592</td><td>0.0</td><td>0.004127</td><td>0.0</td><td>0.0</td><td>0.0</td><td>0.0</td></tr></tbody></table></div>"
      ]
     },
     "execution_count": 3,
     "metadata": {},
     "output_type": "execute_result"
    }
   ],
   "execution_count": 3
  },
  {
   "metadata": {},
   "cell_type": "code",
   "outputs": [],
   "execution_count": null,
   "source": "",
   "id": "a01c2b2f941c1dd6"
  }
 ],
 "metadata": {
  "kernelspec": {
   "display_name": "Python 3",
   "language": "python",
   "name": "python3"
  },
  "language_info": {
   "codemirror_mode": {
    "name": "ipython",
    "version": 2
   },
   "file_extension": ".py",
   "mimetype": "text/x-python",
   "name": "python",
   "nbconvert_exporter": "python",
   "pygments_lexer": "ipython2",
   "version": "2.7.6"
  }
 },
 "nbformat": 4,
 "nbformat_minor": 5
}
