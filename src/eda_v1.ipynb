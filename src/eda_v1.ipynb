{
 "cells": [
  {
   "metadata": {
    "ExecuteTime": {
     "end_time": "2024-05-10T11:05:14.379447Z",
     "start_time": "2024-05-10T11:05:14.090512Z"
    }
   },
   "cell_type": "code",
   "source": "import pandas as pd",
   "id": "3119e56773cf8abe",
   "outputs": [],
   "execution_count": 1
  },
  {
   "metadata": {
    "ExecuteTime": {
     "end_time": "2024-05-10T11:05:14.382034Z",
     "start_time": "2024-05-10T11:05:14.380204Z"
    }
   },
   "cell_type": "code",
   "source": [
    "# Specify the path to your CSV file\n",
    "csv_file_path = './../data/train.csv'"
   ],
   "id": "4382a8bf67369b82",
   "outputs": [],
   "execution_count": 2
  },
  {
   "metadata": {},
   "cell_type": "markdown",
   "source": "# how much memory per row?",
   "id": "30c8ba99363d520f"
  },
  {
   "metadata": {
    "ExecuteTime": {
     "end_time": "2024-05-10T11:05:14.704984Z",
     "start_time": "2024-05-10T11:05:14.383261Z"
    }
   },
   "cell_type": "code",
   "source": [
    "sample_data = pd.read_csv(csv_file_path, nrows=1000)\n",
    "\n",
    "# Check memory usage\n",
    "memory_per_row = sample_data.memory_usage(deep=True).sum() / 1000\n",
    "print(f\"Estimated memory per row: {memory_per_row} bytes\")"
   ],
   "id": "b6d08131cdd5d6d8",
   "outputs": [
    {
     "name": "stdout",
     "output_type": "stream",
     "text": [
      "Estimated memory per row: 7450.022 bytes\n"
     ]
    }
   ],
   "execution_count": 3
  },
  {
   "metadata": {
    "ExecuteTime": {
     "end_time": "2024-05-10T11:05:14.724630Z",
     "start_time": "2024-05-10T11:05:14.705887Z"
    }
   },
   "cell_type": "code",
   "source": "sample_data.head()",
   "id": "8021b605a2da90a4",
   "outputs": [
    {
     "data": {
      "text/plain": [
       "  sample_id   state_t_0   state_t_1   state_t_2   state_t_3   state_t_4  \\\n",
       "0   train_0  213.806117  222.244454  229.259879  245.743959  258.337482   \n",
       "1   train_1  213.177430  225.851064  229.663618  246.828333  261.026415   \n",
       "2   train_2  217.105685  220.448106  234.653398  244.422951  254.023818   \n",
       "3   train_3  217.773994  225.611775  234.104091  247.745365  257.411402   \n",
       "4   train_4  216.349337  230.526083  233.650252  248.196013  262.500730   \n",
       "\n",
       "    state_t_5   state_t_6   state_t_7   state_t_8  ...    ptend_v_58  \\\n",
       "0  265.772467  263.978456  254.879872  243.946147  ... -6.132147e-07   \n",
       "1  269.078431  267.736565  256.896227  244.169421  ...  3.560950e-07   \n",
       "2  259.651472  257.709514  251.064513  241.879600  ...  1.565672e-06   \n",
       "3  263.470947  261.131775  253.303250  242.316814  ... -9.067304e-06   \n",
       "4  270.055663  268.863606  258.161645  244.442620  ...  1.681596e-06   \n",
       "\n",
       "     ptend_v_59  cam_out_NETSW  cam_out_FLWDS  cam_out_PRECSC  cam_out_PRECC  \\\n",
       "0  1.401824e-06            0.0     349.564325             0.0   2.947672e-12   \n",
       "1  9.984912e-07            0.0     335.204086             0.0   3.138366e-09   \n",
       "2  6.186607e-05            0.0     401.709340             0.0   7.424215e-09   \n",
       "3  1.020519e-05            0.0     400.230177             0.0   2.534090e-08   \n",
       "4 -6.378779e-06            0.0     321.960470             0.0   3.377415e-10   \n",
       "\n",
       "   cam_out_SOLS  cam_out_SOLL  cam_out_SOLSD  cam_out_SOLLD  \n",
       "0           0.0           0.0            0.0            0.0  \n",
       "1           0.0           0.0            0.0            0.0  \n",
       "2           0.0           0.0            0.0            0.0  \n",
       "3           0.0           0.0            0.0            0.0  \n",
       "4           0.0           0.0            0.0            0.0  \n",
       "\n",
       "[5 rows x 925 columns]"
      ],
      "text/html": [
       "<div>\n",
       "<style scoped>\n",
       "    .dataframe tbody tr th:only-of-type {\n",
       "        vertical-align: middle;\n",
       "    }\n",
       "\n",
       "    .dataframe tbody tr th {\n",
       "        vertical-align: top;\n",
       "    }\n",
       "\n",
       "    .dataframe thead th {\n",
       "        text-align: right;\n",
       "    }\n",
       "</style>\n",
       "<table border=\"1\" class=\"dataframe\">\n",
       "  <thead>\n",
       "    <tr style=\"text-align: right;\">\n",
       "      <th></th>\n",
       "      <th>sample_id</th>\n",
       "      <th>state_t_0</th>\n",
       "      <th>state_t_1</th>\n",
       "      <th>state_t_2</th>\n",
       "      <th>state_t_3</th>\n",
       "      <th>state_t_4</th>\n",
       "      <th>state_t_5</th>\n",
       "      <th>state_t_6</th>\n",
       "      <th>state_t_7</th>\n",
       "      <th>state_t_8</th>\n",
       "      <th>...</th>\n",
       "      <th>ptend_v_58</th>\n",
       "      <th>ptend_v_59</th>\n",
       "      <th>cam_out_NETSW</th>\n",
       "      <th>cam_out_FLWDS</th>\n",
       "      <th>cam_out_PRECSC</th>\n",
       "      <th>cam_out_PRECC</th>\n",
       "      <th>cam_out_SOLS</th>\n",
       "      <th>cam_out_SOLL</th>\n",
       "      <th>cam_out_SOLSD</th>\n",
       "      <th>cam_out_SOLLD</th>\n",
       "    </tr>\n",
       "  </thead>\n",
       "  <tbody>\n",
       "    <tr>\n",
       "      <th>0</th>\n",
       "      <td>train_0</td>\n",
       "      <td>213.806117</td>\n",
       "      <td>222.244454</td>\n",
       "      <td>229.259879</td>\n",
       "      <td>245.743959</td>\n",
       "      <td>258.337482</td>\n",
       "      <td>265.772467</td>\n",
       "      <td>263.978456</td>\n",
       "      <td>254.879872</td>\n",
       "      <td>243.946147</td>\n",
       "      <td>...</td>\n",
       "      <td>-6.132147e-07</td>\n",
       "      <td>1.401824e-06</td>\n",
       "      <td>0.0</td>\n",
       "      <td>349.564325</td>\n",
       "      <td>0.0</td>\n",
       "      <td>2.947672e-12</td>\n",
       "      <td>0.0</td>\n",
       "      <td>0.0</td>\n",
       "      <td>0.0</td>\n",
       "      <td>0.0</td>\n",
       "    </tr>\n",
       "    <tr>\n",
       "      <th>1</th>\n",
       "      <td>train_1</td>\n",
       "      <td>213.177430</td>\n",
       "      <td>225.851064</td>\n",
       "      <td>229.663618</td>\n",
       "      <td>246.828333</td>\n",
       "      <td>261.026415</td>\n",
       "      <td>269.078431</td>\n",
       "      <td>267.736565</td>\n",
       "      <td>256.896227</td>\n",
       "      <td>244.169421</td>\n",
       "      <td>...</td>\n",
       "      <td>3.560950e-07</td>\n",
       "      <td>9.984912e-07</td>\n",
       "      <td>0.0</td>\n",
       "      <td>335.204086</td>\n",
       "      <td>0.0</td>\n",
       "      <td>3.138366e-09</td>\n",
       "      <td>0.0</td>\n",
       "      <td>0.0</td>\n",
       "      <td>0.0</td>\n",
       "      <td>0.0</td>\n",
       "    </tr>\n",
       "    <tr>\n",
       "      <th>2</th>\n",
       "      <td>train_2</td>\n",
       "      <td>217.105685</td>\n",
       "      <td>220.448106</td>\n",
       "      <td>234.653398</td>\n",
       "      <td>244.422951</td>\n",
       "      <td>254.023818</td>\n",
       "      <td>259.651472</td>\n",
       "      <td>257.709514</td>\n",
       "      <td>251.064513</td>\n",
       "      <td>241.879600</td>\n",
       "      <td>...</td>\n",
       "      <td>1.565672e-06</td>\n",
       "      <td>6.186607e-05</td>\n",
       "      <td>0.0</td>\n",
       "      <td>401.709340</td>\n",
       "      <td>0.0</td>\n",
       "      <td>7.424215e-09</td>\n",
       "      <td>0.0</td>\n",
       "      <td>0.0</td>\n",
       "      <td>0.0</td>\n",
       "      <td>0.0</td>\n",
       "    </tr>\n",
       "    <tr>\n",
       "      <th>3</th>\n",
       "      <td>train_3</td>\n",
       "      <td>217.773994</td>\n",
       "      <td>225.611775</td>\n",
       "      <td>234.104091</td>\n",
       "      <td>247.745365</td>\n",
       "      <td>257.411402</td>\n",
       "      <td>263.470947</td>\n",
       "      <td>261.131775</td>\n",
       "      <td>253.303250</td>\n",
       "      <td>242.316814</td>\n",
       "      <td>...</td>\n",
       "      <td>-9.067304e-06</td>\n",
       "      <td>1.020519e-05</td>\n",
       "      <td>0.0</td>\n",
       "      <td>400.230177</td>\n",
       "      <td>0.0</td>\n",
       "      <td>2.534090e-08</td>\n",
       "      <td>0.0</td>\n",
       "      <td>0.0</td>\n",
       "      <td>0.0</td>\n",
       "      <td>0.0</td>\n",
       "    </tr>\n",
       "    <tr>\n",
       "      <th>4</th>\n",
       "      <td>train_4</td>\n",
       "      <td>216.349337</td>\n",
       "      <td>230.526083</td>\n",
       "      <td>233.650252</td>\n",
       "      <td>248.196013</td>\n",
       "      <td>262.500730</td>\n",
       "      <td>270.055663</td>\n",
       "      <td>268.863606</td>\n",
       "      <td>258.161645</td>\n",
       "      <td>244.442620</td>\n",
       "      <td>...</td>\n",
       "      <td>1.681596e-06</td>\n",
       "      <td>-6.378779e-06</td>\n",
       "      <td>0.0</td>\n",
       "      <td>321.960470</td>\n",
       "      <td>0.0</td>\n",
       "      <td>3.377415e-10</td>\n",
       "      <td>0.0</td>\n",
       "      <td>0.0</td>\n",
       "      <td>0.0</td>\n",
       "      <td>0.0</td>\n",
       "    </tr>\n",
       "  </tbody>\n",
       "</table>\n",
       "<p>5 rows × 925 columns</p>\n",
       "</div>"
      ]
     },
     "execution_count": 4,
     "metadata": {},
     "output_type": "execute_result"
    }
   ],
   "execution_count": 4
  },
  {
   "metadata": {},
   "cell_type": "markdown",
   "source": "# how many rows are there?",
   "id": "c55e56d5b59be3e9"
  },
  {
   "metadata": {
    "ExecuteTime": {
     "end_time": "2024-05-10T11:24:32.017690Z",
     "start_time": "2024-05-10T11:05:14.725412Z"
    }
   },
   "cell_type": "code",
   "source": [
    "# initialize row count\n",
    "total_rows = 0\n",
    "\n",
    "# process in chunks\n",
    "chunksize = 1000000  # adjust chunksize according to your memory capacity\n",
    "for chunk in pd.read_csv(csv_file_path, chunksize=chunksize):\n",
    "    total_rows += len(chunk)\n",
    "\n",
    "# print the total number of rows\n",
    "print(f\"Total number of rows: {total_rows}\")"
   ],
   "id": "aa11aea1ddf62d8a",
   "outputs": [
    {
     "name": "stdout",
     "output_type": "stream",
     "text": [
      "Total number of rows: 10091520\n"
     ]
    }
   ],
   "execution_count": 5
  },
  {
   "cell_type": "code",
   "id": "initial_id",
   "metadata": {
    "collapsed": true,
    "jupyter": {
     "is_executing": true
    },
    "ExecuteTime": {
     "start_time": "2024-05-10T11:24:32.018425Z"
    }
   },
   "source": [
    "%%time\n",
    "df = pd.read_csv('./../data/train.csv')\n",
    "df.head()"
   ],
   "outputs": [],
   "execution_count": null
  },
  {
   "metadata": {
    "jupyter": {
     "is_executing": true
    }
   },
   "cell_type": "code",
   "source": "# chunksize = 50000",
   "id": "2b4b1ade45df33bf",
   "outputs": [],
   "execution_count": null
  },
  {
   "metadata": {
    "jupyter": {
     "is_executing": true
    }
   },
   "cell_type": "code",
   "source": [
    "# columns_to_drop = ['pbuf_N2O_46', 'pbuf_N2O_28', 'pbuf_CH4_45', 'pbuf_CH4_48', \n",
    "#                    'pbuf_CH4_54', 'pbuf_CH4_43', 'pbuf_N2O_43', 'pbuf_CH4_38', \n",
    "#                    'pbuf_CH4_47', 'pbuf_N2O_42', 'pbuf_CH4_29', 'pbuf_CH4_58', \n",
    "#                    'pbuf_CH4_34', 'pbuf_N2O_40', 'pbuf_CH4_41', 'pbuf_CH4_57', \n",
    "#                    'pbuf_N2O_44', 'pbuf_CH4_37', 'pbuf_N2O_50', 'pbuf_CH4_56', \n",
    "#                    'pbuf_N2O_48', 'pbuf_N2O_27', 'pbuf_N2O_58', 'pbuf_N2O_38', \n",
    "#                    'pbuf_N2O_36', 'pbuf_N2O_37', 'pbuf_CH4_39', 'pbuf_CH4_35', \n",
    "#                    'pbuf_N2O_55', 'pbuf_CH4_33', 'pbuf_CH4_52', 'pbuf_N2O_31', \n",
    "#                    'pbuf_N2O_56', 'pbuf_CH4_27', 'pbuf_CH4_30', 'pbuf_CH4_31', \n",
    "#                    'pbuf_N2O_51', 'pbuf_N2O_52', 'pbuf_N2O_41', 'pbuf_N2O_53', \n",
    "#                    'pbuf_CH4_44', 'pbuf_CH4_50', 'pbuf_CH4_32', 'pbuf_CH4_53', \n",
    "#                    'pbuf_N2O_29', 'pbuf_CH4_36', 'pbuf_CH4_42', 'pbuf_CH4_55', \n",
    "#                    'pbuf_N2O_59', 'pbuf_N2O_32', 'pbuf_CH4_51', 'pbuf_N2O_47', \n",
    "#                    'pbuf_N2O_49', 'pbuf_N2O_30', 'pbuf_N2O_35', 'pbuf_N2O_33', \n",
    "#                    'pbuf_CH4_40', 'pbuf_CH4_49', 'pbuf_CH4_28', 'pbuf_N2O_34', \n",
    "#                    'pbuf_CH4_59', 'pbuf_N2O_57', 'pbuf_N2O_39', 'pbuf_N2O_45', \n",
    "#                    'pbuf_N2O_54', 'pbuf_CH4_46']"
   ],
   "id": "20e9b559c7bf08b",
   "outputs": [],
   "execution_count": null
  },
  {
   "metadata": {
    "jupyter": {
     "is_executing": true
    }
   },
   "cell_type": "code",
   "source": [
    "# reading the dataset in chunks\n",
    "# for chunk in pd.read_csv(csv_file_path, chunksize=chunksize):\n",
    "#     drop columns with only one unique value\n",
    "    # chunk.drop(columns=columns_to_drop, inplace=True)\n",
    "    # \n",
    "    # Convert data types to reduce memory usage\n",
    "    # float_cols = chunk.select_dtypes(include=['float64']).columns\n",
    "    # chunk[float_cols] = chunk[float_cols].astype('float16')\n",
    "    \n",
    "    # Assuming the target column is 'target' and should be float32\n",
    "    # if 'target' in chunk.columns:\n",
    "    #     chunk['target'] = chunk['target'].astype('float32')\n",
    "    \n",
    "    # Save each chunk as a Parquet file\n",
    "    # chunk.to_parquet(f'./../data/{chunk.index.start}.parquet')"
   ],
   "id": "304f27c4f4a28ce9",
   "outputs": [],
   "execution_count": null
  },
  {
   "metadata": {
    "jupyter": {
     "is_executing": true
    }
   },
   "cell_type": "code",
   "source": "",
   "id": "723218f968d24830",
   "outputs": [],
   "execution_count": null
  },
  {
   "metadata": {
    "jupyter": {
     "is_executing": true
    }
   },
   "cell_type": "code",
   "source": "",
   "id": "25db75ea9d34647",
   "outputs": [],
   "execution_count": null
  },
  {
   "metadata": {
    "jupyter": {
     "is_executing": true
    }
   },
   "cell_type": "code",
   "source": "",
   "id": "a01c2b2f941c1dd6",
   "outputs": [],
   "execution_count": null
  }
 ],
 "metadata": {
  "kernelspec": {
   "display_name": "Python 3",
   "language": "python",
   "name": "python3"
  },
  "language_info": {
   "codemirror_mode": {
    "name": "ipython",
    "version": 2
   },
   "file_extension": ".py",
   "mimetype": "text/x-python",
   "name": "python",
   "nbconvert_exporter": "python",
   "pygments_lexer": "ipython2",
   "version": "2.7.6"
  }
 },
 "nbformat": 4,
 "nbformat_minor": 5
}
