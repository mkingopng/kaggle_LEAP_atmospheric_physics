{
 "cells": [
  {
   "cell_type": "code",
   "id": "initial_id",
   "metadata": {
    "collapsed": true,
    "ExecuteTime": {
     "end_time": "2024-05-03T00:13:58.331991Z",
     "start_time": "2024-05-03T00:13:57.213508Z"
    }
   },
   "source": [
    "import dask.dataframe as dd\n",
    "from dask.diagnostics import ProgressBar\n",
    "from lists import columns_to_load"
   ],
   "outputs": [],
   "execution_count": 1
  },
  {
   "metadata": {
    "ExecuteTime": {
     "end_time": "2024-05-03T00:13:58.335347Z",
     "start_time": "2024-05-03T00:13:58.333229Z"
    }
   },
   "cell_type": "code",
   "source": [
    "# path to the large CSV file\n",
    "path_to_csv_file = './../data/train.csv'"
   ],
   "id": "e9bb5f246f8c860e",
   "outputs": [],
   "execution_count": 2
  },
  {
   "metadata": {
    "ExecuteTime": {
     "end_time": "2024-05-03T00:13:58.482874Z",
     "start_time": "2024-05-03T00:13:58.336093Z"
    }
   },
   "cell_type": "code",
   "source": [
    "%%time\n",
    "# read the CSV file using dask\n",
    "ddf = dd.read_csv(path_to_csv_file, usecols=columns_to_load)"
   ],
   "id": "93bcd1980d833abe",
   "outputs": [
    {
     "name": "stdout",
     "output_type": "stream",
     "text": [
      "CPU times: user 129 ms, sys: 8.69 ms, total: 138 ms\n",
      "Wall time: 141 ms\n"
     ]
    }
   ],
   "execution_count": 3
  },
  {
   "metadata": {
    "ExecuteTime": {
     "end_time": "2024-05-03T00:13:58.486472Z",
     "start_time": "2024-05-03T00:13:58.483718Z"
    }
   },
   "cell_type": "code",
   "source": [
    "%%time\n",
    "# repartition to a single partition\n",
    "ddf = ddf.repartition(npartitions=1)"
   ],
   "id": "20d28258da0b0866",
   "outputs": [
    {
     "name": "stdout",
     "output_type": "stream",
     "text": [
      "CPU times: user 132 µs, sys: 0 ns, total: 132 µs\n",
      "Wall time: 137 µs\n"
     ]
    }
   ],
   "execution_count": 4
  },
  {
   "metadata": {
    "ExecuteTime": {
     "end_time": "2024-05-03T00:20:36.713552Z",
     "start_time": "2024-05-03T00:13:58.487683Z"
    }
   },
   "cell_type": "code",
   "source": [
    "%%time\n",
    "ddf.head()"
   ],
   "id": "4f21945f02513190",
   "outputs": [
    {
     "name": "stdout",
     "output_type": "stream",
     "text": [
      "CPU times: user 18min 15s, sys: 7min 7s, total: 25min 23s\n",
      "Wall time: 6min 38s\n"
     ]
    },
    {
     "data": {
      "text/plain": [
       "    state_t_0   state_t_1   state_t_2   state_t_3   state_t_4   state_t_5  \\\n",
       "0  213.806117  222.244454  229.259879  245.743959  258.337482  265.772467   \n",
       "1  213.177430  225.851064  229.663618  246.828333  261.026415  269.078431   \n",
       "2  217.105685  220.448106  234.653398  244.422951  254.023818  259.651472   \n",
       "3  217.773994  225.611775  234.104091  247.745365  257.411402  263.470947   \n",
       "4  216.349337  230.526083  233.650252  248.196013  262.500730  270.055663   \n",
       "\n",
       "    state_t_6   state_t_7   state_t_8   state_t_9  ...   pbuf_N2O_17  \\\n",
       "0  263.978456  254.879872  243.946147  236.706990  ...  3.892489e-07   \n",
       "1  267.736565  256.896227  244.169421  236.844423  ...  3.799160e-07   \n",
       "2  257.709514  251.064513  241.879600  234.487318  ...  4.160912e-07   \n",
       "3  261.131775  253.303250  242.316814  234.396266  ...  4.090177e-07   \n",
       "4  268.863606  258.161645  244.442620  236.779096  ...  3.739503e-07   \n",
       "\n",
       "    pbuf_N2O_18   pbuf_N2O_19   pbuf_N2O_20   pbuf_N2O_21   pbuf_N2O_22  \\\n",
       "0  4.180467e-07  4.462546e-07  4.738700e-07  4.908584e-07  4.908584e-07   \n",
       "1  4.083217e-07  4.361652e-07  4.634412e-07  4.901268e-07  4.908584e-07   \n",
       "2  4.459261e-07  4.750905e-07  4.908584e-07  4.908584e-07  4.908584e-07   \n",
       "3  4.385979e-07  4.675294e-07  4.908584e-07  4.908584e-07  4.908584e-07   \n",
       "4  4.021011e-07  4.297071e-07  4.567618e-07  4.832411e-07  4.908584e-07   \n",
       "\n",
       "    pbuf_N2O_23   pbuf_N2O_24   pbuf_N2O_25   pbuf_N2O_26  \n",
       "0  4.908584e-07  4.908584e-07  4.908584e-07  4.908584e-07  \n",
       "1  4.908584e-07  4.908584e-07  4.908584e-07  4.908584e-07  \n",
       "2  4.908584e-07  4.908584e-07  4.908584e-07  4.908584e-07  \n",
       "3  4.908584e-07  4.908584e-07  4.908584e-07  4.908584e-07  \n",
       "4  4.908584e-07  4.908584e-07  4.908584e-07  4.908584e-07  \n",
       "\n",
       "[5 rows x 490 columns]"
      ],
      "text/html": [
       "<div>\n",
       "<style scoped>\n",
       "    .dataframe tbody tr th:only-of-type {\n",
       "        vertical-align: middle;\n",
       "    }\n",
       "\n",
       "    .dataframe tbody tr th {\n",
       "        vertical-align: top;\n",
       "    }\n",
       "\n",
       "    .dataframe thead th {\n",
       "        text-align: right;\n",
       "    }\n",
       "</style>\n",
       "<table border=\"1\" class=\"dataframe\">\n",
       "  <thead>\n",
       "    <tr style=\"text-align: right;\">\n",
       "      <th></th>\n",
       "      <th>state_t_0</th>\n",
       "      <th>state_t_1</th>\n",
       "      <th>state_t_2</th>\n",
       "      <th>state_t_3</th>\n",
       "      <th>state_t_4</th>\n",
       "      <th>state_t_5</th>\n",
       "      <th>state_t_6</th>\n",
       "      <th>state_t_7</th>\n",
       "      <th>state_t_8</th>\n",
       "      <th>state_t_9</th>\n",
       "      <th>...</th>\n",
       "      <th>pbuf_N2O_17</th>\n",
       "      <th>pbuf_N2O_18</th>\n",
       "      <th>pbuf_N2O_19</th>\n",
       "      <th>pbuf_N2O_20</th>\n",
       "      <th>pbuf_N2O_21</th>\n",
       "      <th>pbuf_N2O_22</th>\n",
       "      <th>pbuf_N2O_23</th>\n",
       "      <th>pbuf_N2O_24</th>\n",
       "      <th>pbuf_N2O_25</th>\n",
       "      <th>pbuf_N2O_26</th>\n",
       "    </tr>\n",
       "  </thead>\n",
       "  <tbody>\n",
       "    <tr>\n",
       "      <th>0</th>\n",
       "      <td>213.806117</td>\n",
       "      <td>222.244454</td>\n",
       "      <td>229.259879</td>\n",
       "      <td>245.743959</td>\n",
       "      <td>258.337482</td>\n",
       "      <td>265.772467</td>\n",
       "      <td>263.978456</td>\n",
       "      <td>254.879872</td>\n",
       "      <td>243.946147</td>\n",
       "      <td>236.706990</td>\n",
       "      <td>...</td>\n",
       "      <td>3.892489e-07</td>\n",
       "      <td>4.180467e-07</td>\n",
       "      <td>4.462546e-07</td>\n",
       "      <td>4.738700e-07</td>\n",
       "      <td>4.908584e-07</td>\n",
       "      <td>4.908584e-07</td>\n",
       "      <td>4.908584e-07</td>\n",
       "      <td>4.908584e-07</td>\n",
       "      <td>4.908584e-07</td>\n",
       "      <td>4.908584e-07</td>\n",
       "    </tr>\n",
       "    <tr>\n",
       "      <th>1</th>\n",
       "      <td>213.177430</td>\n",
       "      <td>225.851064</td>\n",
       "      <td>229.663618</td>\n",
       "      <td>246.828333</td>\n",
       "      <td>261.026415</td>\n",
       "      <td>269.078431</td>\n",
       "      <td>267.736565</td>\n",
       "      <td>256.896227</td>\n",
       "      <td>244.169421</td>\n",
       "      <td>236.844423</td>\n",
       "      <td>...</td>\n",
       "      <td>3.799160e-07</td>\n",
       "      <td>4.083217e-07</td>\n",
       "      <td>4.361652e-07</td>\n",
       "      <td>4.634412e-07</td>\n",
       "      <td>4.901268e-07</td>\n",
       "      <td>4.908584e-07</td>\n",
       "      <td>4.908584e-07</td>\n",
       "      <td>4.908584e-07</td>\n",
       "      <td>4.908584e-07</td>\n",
       "      <td>4.908584e-07</td>\n",
       "    </tr>\n",
       "    <tr>\n",
       "      <th>2</th>\n",
       "      <td>217.105685</td>\n",
       "      <td>220.448106</td>\n",
       "      <td>234.653398</td>\n",
       "      <td>244.422951</td>\n",
       "      <td>254.023818</td>\n",
       "      <td>259.651472</td>\n",
       "      <td>257.709514</td>\n",
       "      <td>251.064513</td>\n",
       "      <td>241.879600</td>\n",
       "      <td>234.487318</td>\n",
       "      <td>...</td>\n",
       "      <td>4.160912e-07</td>\n",
       "      <td>4.459261e-07</td>\n",
       "      <td>4.750905e-07</td>\n",
       "      <td>4.908584e-07</td>\n",
       "      <td>4.908584e-07</td>\n",
       "      <td>4.908584e-07</td>\n",
       "      <td>4.908584e-07</td>\n",
       "      <td>4.908584e-07</td>\n",
       "      <td>4.908584e-07</td>\n",
       "      <td>4.908584e-07</td>\n",
       "    </tr>\n",
       "    <tr>\n",
       "      <th>3</th>\n",
       "      <td>217.773994</td>\n",
       "      <td>225.611775</td>\n",
       "      <td>234.104091</td>\n",
       "      <td>247.745365</td>\n",
       "      <td>257.411402</td>\n",
       "      <td>263.470947</td>\n",
       "      <td>261.131775</td>\n",
       "      <td>253.303250</td>\n",
       "      <td>242.316814</td>\n",
       "      <td>234.396266</td>\n",
       "      <td>...</td>\n",
       "      <td>4.090177e-07</td>\n",
       "      <td>4.385979e-07</td>\n",
       "      <td>4.675294e-07</td>\n",
       "      <td>4.908584e-07</td>\n",
       "      <td>4.908584e-07</td>\n",
       "      <td>4.908584e-07</td>\n",
       "      <td>4.908584e-07</td>\n",
       "      <td>4.908584e-07</td>\n",
       "      <td>4.908584e-07</td>\n",
       "      <td>4.908584e-07</td>\n",
       "    </tr>\n",
       "    <tr>\n",
       "      <th>4</th>\n",
       "      <td>216.349337</td>\n",
       "      <td>230.526083</td>\n",
       "      <td>233.650252</td>\n",
       "      <td>248.196013</td>\n",
       "      <td>262.500730</td>\n",
       "      <td>270.055663</td>\n",
       "      <td>268.863606</td>\n",
       "      <td>258.161645</td>\n",
       "      <td>244.442620</td>\n",
       "      <td>236.779096</td>\n",
       "      <td>...</td>\n",
       "      <td>3.739503e-07</td>\n",
       "      <td>4.021011e-07</td>\n",
       "      <td>4.297071e-07</td>\n",
       "      <td>4.567618e-07</td>\n",
       "      <td>4.832411e-07</td>\n",
       "      <td>4.908584e-07</td>\n",
       "      <td>4.908584e-07</td>\n",
       "      <td>4.908584e-07</td>\n",
       "      <td>4.908584e-07</td>\n",
       "      <td>4.908584e-07</td>\n",
       "    </tr>\n",
       "  </tbody>\n",
       "</table>\n",
       "<p>5 rows × 490 columns</p>\n",
       "</div>"
      ]
     },
     "execution_count": 5,
     "metadata": {},
     "output_type": "execute_result"
    }
   ],
   "execution_count": 5
  },
  {
   "metadata": {
    "ExecuteTime": {
     "end_time": "2024-05-03T00:20:36.716824Z",
     "start_time": "2024-05-03T00:20:36.714316Z"
    }
   },
   "cell_type": "code",
   "source": [
    "%%time\n",
    "# path for the output parquet file\n",
    "path_to_parquet_output = './../data/single_file.parquet'\n",
    "# set up the progress bar\n",
    "pbar = ProgressBar()\n",
    "pbar.register()"
   ],
   "id": "799237b562db17c9",
   "outputs": [
    {
     "name": "stdout",
     "output_type": "stream",
     "text": [
      "CPU times: user 21 µs, sys: 8 µs, total: 29 µs\n",
      "Wall time: 31.7 µs\n"
     ]
    }
   ],
   "execution_count": 6
  },
  {
   "metadata": {
    "jupyter": {
     "is_executing": true
    },
    "ExecuteTime": {
     "start_time": "2024-05-03T00:20:36.717530Z"
    }
   },
   "cell_type": "code",
   "source": [
    "%%time\n",
    "# convert the dask df to a single parquet file\n",
    "ddf.to_parquet(\n",
    "    path_to_parquet_output,\n",
    "    engine='pyarrow',\n",
    "    compression='snappy'\n",
    ")"
   ],
   "id": "aa99d8791f3085b2",
   "outputs": [],
   "execution_count": null
  },
  {
   "metadata": {
    "jupyter": {
     "is_executing": true
    }
   },
   "cell_type": "code",
   "source": "pbar.unregister()",
   "id": "e258346167e71e39",
   "outputs": [],
   "execution_count": null
  },
  {
   "metadata": {
    "jupyter": {
     "is_executing": true
    }
   },
   "cell_type": "code",
   "source": [
    "# %%time\n",
    "# ddf.describe().compute()"
   ],
   "id": "dcd9c18f9034ce4a",
   "outputs": [],
   "execution_count": null
  },
  {
   "metadata": {
    "jupyter": {
     "is_executing": true
    }
   },
   "cell_type": "code",
   "source": [
    "# optionally, specify data types to improve memory usage and processing speed\n",
    "# ddf = dd.read_csv(path_to_csv_file, dtype={'column1': 'float32', 'column2': 'int32', ...})"
   ],
   "id": "ed4ee09668d47231",
   "outputs": [],
   "execution_count": null
  }
 ],
 "metadata": {
  "kernelspec": {
   "display_name": "Python 3",
   "language": "python",
   "name": "python3"
  },
  "language_info": {
   "codemirror_mode": {
    "name": "ipython",
    "version": 2
   },
   "file_extension": ".py",
   "mimetype": "text/x-python",
   "name": "python",
   "nbconvert_exporter": "python",
   "pygments_lexer": "ipython2",
   "version": "2.7.6"
  }
 },
 "nbformat": 4,
 "nbformat_minor": 5
}
