{
 "cells": [
  {
   "cell_type": "code",
   "id": "initial_id",
   "metadata": {
    "collapsed": true,
    "ExecuteTime": {
     "end_time": "2024-05-02T22:37:26.312065Z",
     "start_time": "2024-05-02T22:37:25.673678Z"
    }
   },
   "source": "import dask.dataframe as dd",
   "outputs": [],
   "execution_count": 1
  },
  {
   "metadata": {
    "ExecuteTime": {
     "end_time": "2024-05-02T22:37:26.315354Z",
     "start_time": "2024-05-02T22:37:26.313149Z"
    }
   },
   "cell_type": "code",
   "source": [
    "# path to the large CSV file\n",
    "path_to_csv_file = './../data/train.csv'"
   ],
   "id": "e9bb5f246f8c860e",
   "outputs": [],
   "execution_count": 2
  },
  {
   "metadata": {
    "ExecuteTime": {
     "end_time": "2024-05-02T22:37:26.647651Z",
     "start_time": "2024-05-02T22:37:26.316094Z"
    }
   },
   "cell_type": "code",
   "source": [
    "# read the CSV file using dask\n",
    "ddf = dd.read_csv(path_to_csv_file)"
   ],
   "id": "93bcd1980d833abe",
   "outputs": [],
   "execution_count": 3
  },
  {
   "metadata": {
    "ExecuteTime": {
     "end_time": "2024-05-02T22:37:27.440464Z",
     "start_time": "2024-05-02T22:37:26.648824Z"
    }
   },
   "cell_type": "code",
   "source": [
    "%%timeit\n",
    "ddf.head()"
   ],
   "id": "4f21945f02513190",
   "outputs": [
    {
     "data": {
      "text/plain": [
       "  sample_id   state_t_0   state_t_1   state_t_2   state_t_3   state_t_4  \\\n",
       "0   train_0  213.806117  222.244454  229.259879  245.743959  258.337482   \n",
       "1   train_1  213.177430  225.851064  229.663618  246.828333  261.026415   \n",
       "2   train_2  217.105685  220.448106  234.653398  244.422951  254.023818   \n",
       "3   train_3  217.773994  225.611775  234.104091  247.745365  257.411402   \n",
       "4   train_4  216.349337  230.526083  233.650252  248.196013  262.500730   \n",
       "\n",
       "    state_t_5   state_t_6   state_t_7   state_t_8  ...    ptend_v_58  \\\n",
       "0  265.772467  263.978456  254.879872  243.946147  ... -6.132147e-07   \n",
       "1  269.078431  267.736565  256.896227  244.169421  ...  3.560950e-07   \n",
       "2  259.651472  257.709514  251.064513  241.879600  ...  1.565672e-06   \n",
       "3  263.470947  261.131775  253.303250  242.316814  ... -9.067304e-06   \n",
       "4  270.055663  268.863606  258.161645  244.442620  ...  1.681596e-06   \n",
       "\n",
       "     ptend_v_59  cam_out_NETSW  cam_out_FLWDS  cam_out_PRECSC  cam_out_PRECC  \\\n",
       "0  1.401824e-06            0.0     349.564325             0.0   2.947672e-12   \n",
       "1  9.984912e-07            0.0     335.204086             0.0   3.138366e-09   \n",
       "2  6.186607e-05            0.0     401.709340             0.0   7.424215e-09   \n",
       "3  1.020519e-05            0.0     400.230177             0.0   2.534090e-08   \n",
       "4 -6.378779e-06            0.0     321.960470             0.0   3.377415e-10   \n",
       "\n",
       "   cam_out_SOLS  cam_out_SOLL  cam_out_SOLSD  cam_out_SOLLD  \n",
       "0           0.0           0.0            0.0            0.0  \n",
       "1           0.0           0.0            0.0            0.0  \n",
       "2           0.0           0.0            0.0            0.0  \n",
       "3           0.0           0.0            0.0            0.0  \n",
       "4           0.0           0.0            0.0            0.0  \n",
       "\n",
       "[5 rows x 925 columns]"
      ],
      "text/html": [
       "<div>\n",
       "<style scoped>\n",
       "    .dataframe tbody tr th:only-of-type {\n",
       "        vertical-align: middle;\n",
       "    }\n",
       "\n",
       "    .dataframe tbody tr th {\n",
       "        vertical-align: top;\n",
       "    }\n",
       "\n",
       "    .dataframe thead th {\n",
       "        text-align: right;\n",
       "    }\n",
       "</style>\n",
       "<table border=\"1\" class=\"dataframe\">\n",
       "  <thead>\n",
       "    <tr style=\"text-align: right;\">\n",
       "      <th></th>\n",
       "      <th>sample_id</th>\n",
       "      <th>state_t_0</th>\n",
       "      <th>state_t_1</th>\n",
       "      <th>state_t_2</th>\n",
       "      <th>state_t_3</th>\n",
       "      <th>state_t_4</th>\n",
       "      <th>state_t_5</th>\n",
       "      <th>state_t_6</th>\n",
       "      <th>state_t_7</th>\n",
       "      <th>state_t_8</th>\n",
       "      <th>...</th>\n",
       "      <th>ptend_v_58</th>\n",
       "      <th>ptend_v_59</th>\n",
       "      <th>cam_out_NETSW</th>\n",
       "      <th>cam_out_FLWDS</th>\n",
       "      <th>cam_out_PRECSC</th>\n",
       "      <th>cam_out_PRECC</th>\n",
       "      <th>cam_out_SOLS</th>\n",
       "      <th>cam_out_SOLL</th>\n",
       "      <th>cam_out_SOLSD</th>\n",
       "      <th>cam_out_SOLLD</th>\n",
       "    </tr>\n",
       "  </thead>\n",
       "  <tbody>\n",
       "    <tr>\n",
       "      <th>0</th>\n",
       "      <td>train_0</td>\n",
       "      <td>213.806117</td>\n",
       "      <td>222.244454</td>\n",
       "      <td>229.259879</td>\n",
       "      <td>245.743959</td>\n",
       "      <td>258.337482</td>\n",
       "      <td>265.772467</td>\n",
       "      <td>263.978456</td>\n",
       "      <td>254.879872</td>\n",
       "      <td>243.946147</td>\n",
       "      <td>...</td>\n",
       "      <td>-6.132147e-07</td>\n",
       "      <td>1.401824e-06</td>\n",
       "      <td>0.0</td>\n",
       "      <td>349.564325</td>\n",
       "      <td>0.0</td>\n",
       "      <td>2.947672e-12</td>\n",
       "      <td>0.0</td>\n",
       "      <td>0.0</td>\n",
       "      <td>0.0</td>\n",
       "      <td>0.0</td>\n",
       "    </tr>\n",
       "    <tr>\n",
       "      <th>1</th>\n",
       "      <td>train_1</td>\n",
       "      <td>213.177430</td>\n",
       "      <td>225.851064</td>\n",
       "      <td>229.663618</td>\n",
       "      <td>246.828333</td>\n",
       "      <td>261.026415</td>\n",
       "      <td>269.078431</td>\n",
       "      <td>267.736565</td>\n",
       "      <td>256.896227</td>\n",
       "      <td>244.169421</td>\n",
       "      <td>...</td>\n",
       "      <td>3.560950e-07</td>\n",
       "      <td>9.984912e-07</td>\n",
       "      <td>0.0</td>\n",
       "      <td>335.204086</td>\n",
       "      <td>0.0</td>\n",
       "      <td>3.138366e-09</td>\n",
       "      <td>0.0</td>\n",
       "      <td>0.0</td>\n",
       "      <td>0.0</td>\n",
       "      <td>0.0</td>\n",
       "    </tr>\n",
       "    <tr>\n",
       "      <th>2</th>\n",
       "      <td>train_2</td>\n",
       "      <td>217.105685</td>\n",
       "      <td>220.448106</td>\n",
       "      <td>234.653398</td>\n",
       "      <td>244.422951</td>\n",
       "      <td>254.023818</td>\n",
       "      <td>259.651472</td>\n",
       "      <td>257.709514</td>\n",
       "      <td>251.064513</td>\n",
       "      <td>241.879600</td>\n",
       "      <td>...</td>\n",
       "      <td>1.565672e-06</td>\n",
       "      <td>6.186607e-05</td>\n",
       "      <td>0.0</td>\n",
       "      <td>401.709340</td>\n",
       "      <td>0.0</td>\n",
       "      <td>7.424215e-09</td>\n",
       "      <td>0.0</td>\n",
       "      <td>0.0</td>\n",
       "      <td>0.0</td>\n",
       "      <td>0.0</td>\n",
       "    </tr>\n",
       "    <tr>\n",
       "      <th>3</th>\n",
       "      <td>train_3</td>\n",
       "      <td>217.773994</td>\n",
       "      <td>225.611775</td>\n",
       "      <td>234.104091</td>\n",
       "      <td>247.745365</td>\n",
       "      <td>257.411402</td>\n",
       "      <td>263.470947</td>\n",
       "      <td>261.131775</td>\n",
       "      <td>253.303250</td>\n",
       "      <td>242.316814</td>\n",
       "      <td>...</td>\n",
       "      <td>-9.067304e-06</td>\n",
       "      <td>1.020519e-05</td>\n",
       "      <td>0.0</td>\n",
       "      <td>400.230177</td>\n",
       "      <td>0.0</td>\n",
       "      <td>2.534090e-08</td>\n",
       "      <td>0.0</td>\n",
       "      <td>0.0</td>\n",
       "      <td>0.0</td>\n",
       "      <td>0.0</td>\n",
       "    </tr>\n",
       "    <tr>\n",
       "      <th>4</th>\n",
       "      <td>train_4</td>\n",
       "      <td>216.349337</td>\n",
       "      <td>230.526083</td>\n",
       "      <td>233.650252</td>\n",
       "      <td>248.196013</td>\n",
       "      <td>262.500730</td>\n",
       "      <td>270.055663</td>\n",
       "      <td>268.863606</td>\n",
       "      <td>258.161645</td>\n",
       "      <td>244.442620</td>\n",
       "      <td>...</td>\n",
       "      <td>1.681596e-06</td>\n",
       "      <td>-6.378779e-06</td>\n",
       "      <td>0.0</td>\n",
       "      <td>321.960470</td>\n",
       "      <td>0.0</td>\n",
       "      <td>3.377415e-10</td>\n",
       "      <td>0.0</td>\n",
       "      <td>0.0</td>\n",
       "      <td>0.0</td>\n",
       "      <td>0.0</td>\n",
       "    </tr>\n",
       "  </tbody>\n",
       "</table>\n",
       "<p>5 rows × 925 columns</p>\n",
       "</div>"
      ]
     },
     "execution_count": 4,
     "metadata": {},
     "output_type": "execute_result"
    }
   ],
   "execution_count": 4
  },
  {
   "metadata": {
    "jupyter": {
     "is_executing": true
    },
    "ExecuteTime": {
     "start_time": "2024-05-02T22:37:27.441653Z"
    }
   },
   "cell_type": "code",
   "source": [
    "%%timeit\n",
    "ddf.describe().compute()"
   ],
   "id": "dcd9c18f9034ce4a",
   "outputs": [],
   "execution_count": null
  },
  {
   "metadata": {
    "jupyter": {
     "is_executing": true
    }
   },
   "cell_type": "code",
   "source": [
    "# Optionally, specify data types to improve memory usage and processing speed\n",
    "# ddf = dd.read_csv(path_to_csv_file, dtype={'column1': 'float32', 'column2': 'int32', ...})"
   ],
   "id": "ed4ee09668d47231",
   "outputs": [],
   "execution_count": null
  }
 ],
 "metadata": {
  "kernelspec": {
   "display_name": "Python 3",
   "language": "python",
   "name": "python3"
  },
  "language_info": {
   "codemirror_mode": {
    "name": "ipython",
    "version": 2
   },
   "file_extension": ".py",
   "mimetype": "text/x-python",
   "name": "python",
   "nbconvert_exporter": "python",
   "pygments_lexer": "ipython2",
   "version": "2.7.6"
  }
 },
 "nbformat": 4,
 "nbformat_minor": 5
}
